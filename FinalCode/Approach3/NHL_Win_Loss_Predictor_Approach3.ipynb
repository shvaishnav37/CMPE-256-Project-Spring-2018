{
 "cells": [
  {
   "cell_type": "code",
   "execution_count": 1,
   "metadata": {},
   "outputs": [],
   "source": [
    "import numpy as np\n",
    "import pandas as pd\n",
    "import matplotlib.pyplot as plt\n",
    "from sklearn.ensemble import GradientBoostingClassifier\n",
    "from sklearn.ensemble import AdaBoostClassifier \n",
    "from sklearn.ensemble import RandomForestClassifier\n",
    "from sklearn.naive_bayes import GaussianNB\n",
    "from sklearn.neighbors import KNeighborsClassifier\n",
    "from sklearn import linear_model\n",
    "from sklearn.metrics import confusion_matrix\n",
    "from sklearn.metrics import classification_report, accuracy_score\n",
    "from sklearn.calibration import CalibratedClassifierCV\n",
    "from sklearn import model_selection\n",
    "from sklearn.model_selection import train_test_split\n",
    "from sklearn.metrics import make_scorer\n",
    "\n",
    "from sklearn.preprocessing import Normalizer\n",
    "from sklearn.preprocessing import scale\n"
   ]
  },
  {
   "cell_type": "code",
   "execution_count": 3,
   "metadata": {},
   "outputs": [],
   "source": [
    "#Importing the datasets\n",
    "team = pd.read_csv(\"/Users/sdnan/Documents/Study/Fall 2018/CMPE256/Project/NHL/Dataset/game_teams_stats.csv\")\n",
    "gplayer = pd.read_csv(\"/Users/sdnan/Documents/Study/Fall 2018/CMPE256/Project/NHL/Dataset/game_skater_stats.csv\")\n",
    "playerinfo = pd.read_csv(\"/Users/sdnan/Documents/Study/Fall 2018/CMPE256/Project/NHL/Dataset/player_info.csv\")"
   ]
  },
  {
   "cell_type": "code",
   "execution_count": 4,
   "metadata": {},
   "outputs": [],
   "source": [
    "#Dropping columns not required\n",
    "team.drop(['settled_in','head_coach','powerPlayOpportunities', 'powerPlayGoals', 'faceOffWinPercentage', 'giveaways', 'takeaways'],axis = 1,inplace= True)\n",
    "playerinfo.drop(['firstName','lastName','nationality','birthCity','birthDate','link'],axis = 1,inplace= True)\n",
    "\n"
   ]
  },
  {
   "cell_type": "code",
   "execution_count": 5,
   "metadata": {},
   "outputs": [
    {
     "data": {
      "text/html": [
       "<div>\n",
       "<style scoped>\n",
       "    .dataframe tbody tr th:only-of-type {\n",
       "        vertical-align: middle;\n",
       "    }\n",
       "\n",
       "    .dataframe tbody tr th {\n",
       "        vertical-align: top;\n",
       "    }\n",
       "\n",
       "    .dataframe thead th {\n",
       "        text-align: right;\n",
       "    }\n",
       "</style>\n",
       "<table border=\"1\" class=\"dataframe\">\n",
       "  <thead>\n",
       "    <tr style=\"text-align: right;\">\n",
       "      <th></th>\n",
       "      <th>player_id</th>\n",
       "      <th>primaryPosition</th>\n",
       "    </tr>\n",
       "  </thead>\n",
       "  <tbody>\n",
       "    <tr>\n",
       "      <th>0</th>\n",
       "      <td>8467412</td>\n",
       "      <td>LW</td>\n",
       "    </tr>\n",
       "    <tr>\n",
       "      <th>1</th>\n",
       "      <td>8468501</td>\n",
       "      <td>D</td>\n",
       "    </tr>\n",
       "    <tr>\n",
       "      <th>2</th>\n",
       "      <td>8459670</td>\n",
       "      <td>D</td>\n",
       "    </tr>\n",
       "  </tbody>\n",
       "</table>\n",
       "</div>"
      ],
      "text/plain": [
       "   player_id primaryPosition\n",
       "0    8467412              LW\n",
       "1    8468501               D\n",
       "2    8459670               D"
      ]
     },
     "execution_count": 5,
     "metadata": {},
     "output_type": "execute_result"
    }
   ],
   "source": [
    "# Merging the player stats dataset with player info \n",
    "playerPosition = pd.merge(gplayer,playerinfo,how='left',left_on=['player_id'],right_on=['player_id'])\n",
    "playerinfo.head(3)\n"
   ]
  },
  {
   "cell_type": "code",
   "execution_count": 6,
   "metadata": {},
   "outputs": [],
   "source": [
    "# Dropping irrelevant columns\n",
    "dfplayer1= playerPosition.drop(['timeOnIce','assists','goals','shots','hits','powerPlayGoals','powerPlayAssists','penaltyMinutes','faceOffWins','faceoffTaken','takeaways','giveaways','shortHandedGoals','shortHandedAssists','blocked','evenTimeOnIce','shortHandedTimeOnIce','powerPlayTimeOnIce'],axis = 1,inplace= True)"
   ]
  },
  {
   "cell_type": "code",
   "execution_count": 7,
   "metadata": {},
   "outputs": [],
   "source": [
    "playerPosition.drop(['player_id'],axis = 1,inplace= True)\n"
   ]
  },
  {
   "cell_type": "code",
   "execution_count": 8,
   "metadata": {},
   "outputs": [
    {
     "data": {
      "text/plain": [
       "(267854, 4)"
      ]
     },
     "execution_count": 8,
     "metadata": {},
     "output_type": "execute_result"
    }
   ],
   "source": [
    "playerPosition.shape\n"
   ]
  },
  {
   "cell_type": "code",
   "execution_count": 9,
   "metadata": {},
   "outputs": [
    {
     "data": {
      "text/html": [
       "<div>\n",
       "<style scoped>\n",
       "    .dataframe tbody tr th:only-of-type {\n",
       "        vertical-align: middle;\n",
       "    }\n",
       "\n",
       "    .dataframe tbody tr th {\n",
       "        vertical-align: top;\n",
       "    }\n",
       "\n",
       "    .dataframe thead th {\n",
       "        text-align: right;\n",
       "    }\n",
       "</style>\n",
       "<table border=\"1\" class=\"dataframe\">\n",
       "  <thead>\n",
       "    <tr style=\"text-align: right;\">\n",
       "      <th></th>\n",
       "      <th>game_id</th>\n",
       "      <th>team_id</th>\n",
       "      <th>primaryPosition</th>\n",
       "      <th>plusMinus</th>\n",
       "    </tr>\n",
       "  </thead>\n",
       "  <tbody>\n",
       "    <tr>\n",
       "      <th>0</th>\n",
       "      <td>2012020001</td>\n",
       "      <td>4</td>\n",
       "      <td>C</td>\n",
       "      <td>0</td>\n",
       "    </tr>\n",
       "    <tr>\n",
       "      <th>1</th>\n",
       "      <td>2012020001</td>\n",
       "      <td>4</td>\n",
       "      <td>D</td>\n",
       "      <td>0</td>\n",
       "    </tr>\n",
       "    <tr>\n",
       "      <th>2</th>\n",
       "      <td>2012020001</td>\n",
       "      <td>4</td>\n",
       "      <td>LW</td>\n",
       "      <td>1</td>\n",
       "    </tr>\n",
       "    <tr>\n",
       "      <th>3</th>\n",
       "      <td>2012020001</td>\n",
       "      <td>4</td>\n",
       "      <td>RW</td>\n",
       "      <td>-1</td>\n",
       "    </tr>\n",
       "    <tr>\n",
       "      <th>4</th>\n",
       "      <td>2012020001</td>\n",
       "      <td>5</td>\n",
       "      <td>C</td>\n",
       "      <td>0</td>\n",
       "    </tr>\n",
       "    <tr>\n",
       "      <th>5</th>\n",
       "      <td>2012020001</td>\n",
       "      <td>5</td>\n",
       "      <td>D</td>\n",
       "      <td>0</td>\n",
       "    </tr>\n",
       "  </tbody>\n",
       "</table>\n",
       "</div>"
      ],
      "text/plain": [
       "      game_id  team_id primaryPosition  plusMinus\n",
       "0  2012020001        4               C          0\n",
       "1  2012020001        4               D          0\n",
       "2  2012020001        4              LW          1\n",
       "3  2012020001        4              RW         -1\n",
       "4  2012020001        5               C          0\n",
       "5  2012020001        5               D          0"
      ]
     },
     "execution_count": 9,
     "metadata": {},
     "output_type": "execute_result"
    }
   ],
   "source": [
    "# Obtaining player's plus minus information\n",
    "dfplayer3 = playerPosition.groupby([\"game_id\",\"team_id\",\"primaryPosition\"])[\"plusMinus\"].sum().reset_index()\n",
    "dfplayer4 = dfplayer3\n",
    "dfplayer4.head(6)"
   ]
  },
  {
   "cell_type": "code",
   "execution_count": 10,
   "metadata": {},
   "outputs": [
    {
     "data": {
      "text/html": [
       "<div>\n",
       "<style scoped>\n",
       "    .dataframe tbody tr th:only-of-type {\n",
       "        vertical-align: middle;\n",
       "    }\n",
       "\n",
       "    .dataframe tbody tr th {\n",
       "        vertical-align: top;\n",
       "    }\n",
       "\n",
       "    .dataframe thead th {\n",
       "        text-align: right;\n",
       "    }\n",
       "</style>\n",
       "<table border=\"1\" class=\"dataframe\">\n",
       "  <thead>\n",
       "    <tr style=\"text-align: right;\">\n",
       "      <th></th>\n",
       "      <th>game_id</th>\n",
       "      <th>team_id</th>\n",
       "      <th>primaryPosition</th>\n",
       "      <th>plusMinus</th>\n",
       "    </tr>\n",
       "  </thead>\n",
       "  <tbody>\n",
       "    <tr>\n",
       "      <th>0</th>\n",
       "      <td>2012020001</td>\n",
       "      <td>4</td>\n",
       "      <td>C</td>\n",
       "      <td>0</td>\n",
       "    </tr>\n",
       "    <tr>\n",
       "      <th>1</th>\n",
       "      <td>2012020001</td>\n",
       "      <td>4</td>\n",
       "      <td>D</td>\n",
       "      <td>0</td>\n",
       "    </tr>\n",
       "    <tr>\n",
       "      <th>2</th>\n",
       "      <td>2012020001</td>\n",
       "      <td>4</td>\n",
       "      <td>LW</td>\n",
       "      <td>1</td>\n",
       "    </tr>\n",
       "  </tbody>\n",
       "</table>\n",
       "</div>"
      ],
      "text/plain": [
       "      game_id  team_id primaryPosition  plusMinus\n",
       "0  2012020001        4               C          0\n",
       "1  2012020001        4               D          0\n",
       "2  2012020001        4              LW          1"
      ]
     },
     "execution_count": 10,
     "metadata": {},
     "output_type": "execute_result"
    }
   ],
   "source": [
    "idx1 = dfplayer3.index\n",
    "dfplayer4 =dfplayer3\n",
    "dfplayer4.head(3)\n",
    "dfplayer3.head(3)"
   ]
  },
  {
   "cell_type": "code",
   "execution_count": 11,
   "metadata": {},
   "outputs": [
    {
     "data": {
      "text/plain": [
       "(14882, 6)"
      ]
     },
     "execution_count": 11,
     "metadata": {},
     "output_type": "execute_result"
    }
   ],
   "source": [
    "\n",
    "dfplayer5 = dfplayer3.pivot_table(index=[\"game_id\",\"team_id\"],columns='primaryPosition',values='plusMinus').reset_index()\n",
    "\n",
    "dfplayer5.shape"
   ]
  },
  {
   "cell_type": "code",
   "execution_count": 12,
   "metadata": {},
   "outputs": [],
   "source": [
    "#gplayer.drop(['timeOnIce','assists','goals','shots','hits','powerPlayGoals','powerPlayAssists','penaltyMinutes','faceOffWins','faceoffTaken','takeaways','giveaways','shortHandedGoals','shortHandedAssists','blocked','evenTimeOnIce','shortHandedTimeOnIce','powerPlayTimeOnIce'],axis = 1,inplace= True)\n",
    "#gplayer.drop(['timeOnIce','powerPlayGoals','powerPlayAssists','penaltyMinutes','faceOffWins','faceoffTaken','takeaways','giveaways','shortHandedGoals','shortHandedAssists','evenTimeOnIce','shortHandedTimeOnIce','powerPlayTimeOnIce'],axis = 1,inplace= True)\n",
    "#gplayer.head(3)"
   ]
  },
  {
   "cell_type": "code",
   "execution_count": 13,
   "metadata": {},
   "outputs": [],
   "source": [
    "# Merging the created table with the team data\n",
    "df = pd.merge(team, dfplayer5,  how='left', left_on=['game_id','team_id'], right_on = ['game_id','team_id'])"
   ]
  },
  {
   "cell_type": "code",
   "execution_count": 14,
   "metadata": {},
   "outputs": [
    {
     "data": {
      "text/html": [
       "<div>\n",
       "<style scoped>\n",
       "    .dataframe tbody tr th:only-of-type {\n",
       "        vertical-align: middle;\n",
       "    }\n",
       "\n",
       "    .dataframe tbody tr th {\n",
       "        vertical-align: top;\n",
       "    }\n",
       "\n",
       "    .dataframe thead th {\n",
       "        text-align: right;\n",
       "    }\n",
       "</style>\n",
       "<table border=\"1\" class=\"dataframe\">\n",
       "  <thead>\n",
       "    <tr style=\"text-align: right;\">\n",
       "      <th></th>\n",
       "      <th>game_id</th>\n",
       "      <th>team_id</th>\n",
       "      <th>HoA</th>\n",
       "      <th>won</th>\n",
       "      <th>goals</th>\n",
       "      <th>shots</th>\n",
       "      <th>hits</th>\n",
       "      <th>pim</th>\n",
       "      <th>C</th>\n",
       "      <th>D</th>\n",
       "      <th>LW</th>\n",
       "      <th>RW</th>\n",
       "    </tr>\n",
       "  </thead>\n",
       "  <tbody>\n",
       "    <tr>\n",
       "      <th>0</th>\n",
       "      <td>2012030221</td>\n",
       "      <td>3</td>\n",
       "      <td>away</td>\n",
       "      <td>False</td>\n",
       "      <td>2</td>\n",
       "      <td>35</td>\n",
       "      <td>44</td>\n",
       "      <td>8</td>\n",
       "      <td>1.0</td>\n",
       "      <td>0.0</td>\n",
       "      <td>0.0</td>\n",
       "      <td>-1.0</td>\n",
       "    </tr>\n",
       "    <tr>\n",
       "      <th>1</th>\n",
       "      <td>2012030221</td>\n",
       "      <td>6</td>\n",
       "      <td>home</td>\n",
       "      <td>True</td>\n",
       "      <td>3</td>\n",
       "      <td>48</td>\n",
       "      <td>51</td>\n",
       "      <td>6</td>\n",
       "      <td>-1.0</td>\n",
       "      <td>0.0</td>\n",
       "      <td>0.0</td>\n",
       "      <td>1.0</td>\n",
       "    </tr>\n",
       "    <tr>\n",
       "      <th>2</th>\n",
       "      <td>2012030222</td>\n",
       "      <td>3</td>\n",
       "      <td>away</td>\n",
       "      <td>False</td>\n",
       "      <td>2</td>\n",
       "      <td>37</td>\n",
       "      <td>33</td>\n",
       "      <td>11</td>\n",
       "      <td>-3.0</td>\n",
       "      <td>-6.0</td>\n",
       "      <td>-2.0</td>\n",
       "      <td>-3.0</td>\n",
       "    </tr>\n",
       "  </tbody>\n",
       "</table>\n",
       "</div>"
      ],
      "text/plain": [
       "      game_id  team_id   HoA    won  goals  shots  hits  pim    C    D   LW  \\\n",
       "0  2012030221        3  away  False      2     35    44    8  1.0  0.0  0.0   \n",
       "1  2012030221        6  home   True      3     48    51    6 -1.0  0.0  0.0   \n",
       "2  2012030222        3  away  False      2     37    33   11 -3.0 -6.0 -2.0   \n",
       "\n",
       "    RW  \n",
       "0 -1.0  \n",
       "1  1.0  \n",
       "2 -3.0  "
      ]
     },
     "execution_count": 14,
     "metadata": {},
     "output_type": "execute_result"
    }
   ],
   "source": [
    "df.shape\n",
    "df.head(3)"
   ]
  },
  {
   "cell_type": "code",
   "execution_count": 15,
   "metadata": {},
   "outputs": [],
   "source": [
    "## One - Hot Encoding for Home or Away \n",
    "HoA = df['HoA']\n",
    "df['HoA'] = df['HoA'].fillna('blank')\n",
    "wf_dummy = pd.get_dummies(df['HoA'],prefix = 'p')\n",
    "df = pd.concat([df,wf_dummy],axis=1)\n",
    "df.drop(['game_id','team_id','HoA'],axis = 1,inplace= True)"
   ]
  },
  {
   "cell_type": "code",
   "execution_count": 16,
   "metadata": {},
   "outputs": [
    {
     "data": {
      "text/html": [
       "<div>\n",
       "<style scoped>\n",
       "    .dataframe tbody tr th:only-of-type {\n",
       "        vertical-align: middle;\n",
       "    }\n",
       "\n",
       "    .dataframe tbody tr th {\n",
       "        vertical-align: top;\n",
       "    }\n",
       "\n",
       "    .dataframe thead th {\n",
       "        text-align: right;\n",
       "    }\n",
       "</style>\n",
       "<table border=\"1\" class=\"dataframe\">\n",
       "  <thead>\n",
       "    <tr style=\"text-align: right;\">\n",
       "      <th></th>\n",
       "      <th>won</th>\n",
       "      <th>goals</th>\n",
       "      <th>shots</th>\n",
       "      <th>hits</th>\n",
       "      <th>pim</th>\n",
       "      <th>C</th>\n",
       "      <th>D</th>\n",
       "      <th>LW</th>\n",
       "      <th>RW</th>\n",
       "      <th>p_away</th>\n",
       "      <th>p_home</th>\n",
       "    </tr>\n",
       "  </thead>\n",
       "  <tbody>\n",
       "    <tr>\n",
       "      <th>0</th>\n",
       "      <td>False</td>\n",
       "      <td>2</td>\n",
       "      <td>35</td>\n",
       "      <td>44</td>\n",
       "      <td>8</td>\n",
       "      <td>1.0</td>\n",
       "      <td>0.0</td>\n",
       "      <td>0.0</td>\n",
       "      <td>-1.0</td>\n",
       "      <td>1</td>\n",
       "      <td>0</td>\n",
       "    </tr>\n",
       "    <tr>\n",
       "      <th>1</th>\n",
       "      <td>True</td>\n",
       "      <td>3</td>\n",
       "      <td>48</td>\n",
       "      <td>51</td>\n",
       "      <td>6</td>\n",
       "      <td>-1.0</td>\n",
       "      <td>0.0</td>\n",
       "      <td>0.0</td>\n",
       "      <td>1.0</td>\n",
       "      <td>0</td>\n",
       "      <td>1</td>\n",
       "    </tr>\n",
       "  </tbody>\n",
       "</table>\n",
       "</div>"
      ],
      "text/plain": [
       "     won  goals  shots  hits  pim    C    D   LW   RW  p_away  p_home\n",
       "0  False      2     35    44    8  1.0  0.0  0.0 -1.0       1       0\n",
       "1   True      3     48    51    6 -1.0  0.0  0.0  1.0       0       1"
      ]
     },
     "execution_count": 16,
     "metadata": {},
     "output_type": "execute_result"
    }
   ],
   "source": [
    "df= df.fillna(0)\n",
    "df.head(2)"
   ]
  },
  {
   "cell_type": "code",
   "execution_count": 17,
   "metadata": {},
   "outputs": [],
   "source": [
    "df.to_csv('Preprocessedfile.csv')"
   ]
  },
  {
   "cell_type": "code",
   "execution_count": 18,
   "metadata": {},
   "outputs": [],
   "source": [
    "# Separating into feature set and target variable\n",
    "\n",
    "X_all = df.drop(['won'],1)\n",
    "y_all = df['won']\n",
    "y_all = y_all*1\n",
    "\n"
   ]
  },
  {
   "cell_type": "code",
   "execution_count": 19,
   "metadata": {},
   "outputs": [
    {
     "data": {
      "text/plain": [
       "<matplotlib.axes._subplots.AxesSubplot at 0x17b64d53f28>"
      ]
     },
     "execution_count": 19,
     "metadata": {},
     "output_type": "execute_result"
    },
    {
     "data": {
      "image/png": "[encoded data removed]",
      "text/plain": [
       "<Figure size 432x288 with 1 Axes>"
      ]
     },
     "metadata": {
      "needs_background": "light"
     },
     "output_type": "display_data"
    }
   ],
   "source": [
    "X_all['p_home'].plot()"
   ]
  },
  {
   "cell_type": "code",
   "execution_count": 20,
   "metadata": {},
   "outputs": [],
   "source": [
    "# Scaling and Normlization\n",
    "from sklearn import preprocessing\n",
    "x=X_all.values\n",
    "min_max_scaler = preprocessing.MinMaxScaler()\n",
    "x_scaled = min_max_scaler.fit_transform(x)\n"
   ]
  },
  {
   "cell_type": "code",
   "execution_count": 21,
   "metadata": {},
   "outputs": [],
   "source": [
    "df_normalized = pd.DataFrame(x_scaled)\n",
    "df_normalized.head(3)\n",
    "X_all = df_normalized"
   ]
  },
  {
   "cell_type": "code",
   "execution_count": 22,
   "metadata": {},
   "outputs": [
    {
     "data": {
      "text/html": [
       "<div>\n",
       "<style scoped>\n",
       "    .dataframe tbody tr th:only-of-type {\n",
       "        vertical-align: middle;\n",
       "    }\n",
       "\n",
       "    .dataframe tbody tr th {\n",
       "        vertical-align: top;\n",
       "    }\n",
       "\n",
       "    .dataframe thead th {\n",
       "        text-align: right;\n",
       "    }\n",
       "</style>\n",
       "<table border=\"1\" class=\"dataframe\">\n",
       "  <thead>\n",
       "    <tr style=\"text-align: right;\">\n",
       "      <th></th>\n",
       "      <th>0</th>\n",
       "      <th>1</th>\n",
       "      <th>2</th>\n",
       "      <th>3</th>\n",
       "      <th>4</th>\n",
       "      <th>5</th>\n",
       "      <th>6</th>\n",
       "      <th>7</th>\n",
       "      <th>8</th>\n",
       "      <th>9</th>\n",
       "    </tr>\n",
       "  </thead>\n",
       "  <tbody>\n",
       "    <tr>\n",
       "      <th>0</th>\n",
       "      <td>0.2</td>\n",
       "      <td>0.462963</td>\n",
       "      <td>0.538462</td>\n",
       "      <td>0.062016</td>\n",
       "      <td>0.5000</td>\n",
       "      <td>0.512821</td>\n",
       "      <td>0.466667</td>\n",
       "      <td>0.409091</td>\n",
       "      <td>1.0</td>\n",
       "      <td>0.0</td>\n",
       "    </tr>\n",
       "    <tr>\n",
       "      <th>1</th>\n",
       "      <td>0.3</td>\n",
       "      <td>0.703704</td>\n",
       "      <td>0.628205</td>\n",
       "      <td>0.046512</td>\n",
       "      <td>0.4375</td>\n",
       "      <td>0.512821</td>\n",
       "      <td>0.466667</td>\n",
       "      <td>0.500000</td>\n",
       "      <td>0.0</td>\n",
       "      <td>1.0</td>\n",
       "    </tr>\n",
       "    <tr>\n",
       "      <th>2</th>\n",
       "      <td>0.2</td>\n",
       "      <td>0.500000</td>\n",
       "      <td>0.397436</td>\n",
       "      <td>0.085271</td>\n",
       "      <td>0.3750</td>\n",
       "      <td>0.358974</td>\n",
       "      <td>0.400000</td>\n",
       "      <td>0.318182</td>\n",
       "      <td>1.0</td>\n",
       "      <td>0.0</td>\n",
       "    </tr>\n",
       "  </tbody>\n",
       "</table>\n",
       "</div>"
      ],
      "text/plain": [
       "     0         1         2         3       4         5         6         7  \\\n",
       "0  0.2  0.462963  0.538462  0.062016  0.5000  0.512821  0.466667  0.409091   \n",
       "1  0.3  0.703704  0.628205  0.046512  0.4375  0.512821  0.466667  0.500000   \n",
       "2  0.2  0.500000  0.397436  0.085271  0.3750  0.358974  0.400000  0.318182   \n",
       "\n",
       "     8    9  \n",
       "0  1.0  0.0  \n",
       "1  0.0  1.0  \n",
       "2  1.0  0.0  "
      ]
     },
     "execution_count": 22,
     "metadata": {},
     "output_type": "execute_result"
    }
   ],
   "source": [
    "X_all.head(3)"
   ]
  },
  {
   "cell_type": "code",
   "execution_count": 23,
   "metadata": {},
   "outputs": [
    {
     "data": {
      "text/plain": [
       "0    0\n",
       "1    1\n",
       "2    0\n",
       "Name: won, dtype: int32"
      ]
     },
     "execution_count": 23,
     "metadata": {},
     "output_type": "execute_result"
    }
   ],
   "source": [
    "X_all.head(3)\n",
    "y_all.head(3)\n"
   ]
  },
  {
   "cell_type": "code",
   "execution_count": 24,
   "metadata": {},
   "outputs": [],
   "source": [
    "X_train_calibrate, X_test, y_train_calibrate, y_test = train_test_split(X_all, y_all, test_size = 0.2, random_state = 42, \n",
    "                                                                        stratify = y_all)\n",
    "X_train, X_calibrate, y_train, y_calibrate = train_test_split(X_train_calibrate, y_train_calibrate, test_size = 0.3, random_state = 42, \n",
    "                                                              stratify = y_train_calibrate)"
   ]
  },
  {
   "cell_type": "code",
   "execution_count": 25,
   "metadata": {},
   "outputs": [
    {
     "data": {
      "text/plain": [
       "3535     1\n",
       "12414    1\n",
       "6587     0\n",
       "Name: won, dtype: int32"
      ]
     },
     "execution_count": 25,
     "metadata": {},
     "output_type": "execute_result"
    }
   ],
   "source": [
    "y_test.head(3)"
   ]
  },
  {
   "cell_type": "code",
   "execution_count": 26,
   "metadata": {},
   "outputs": [
    {
     "data": {
      "text/plain": [
       "4878     0\n",
       "11432    0\n",
       "5089     0\n",
       "Name: won, dtype: int32"
      ]
     },
     "execution_count": 26,
     "metadata": {},
     "output_type": "execute_result"
    }
   ],
   "source": [
    "y_train.head(3)"
   ]
  },
  {
   "cell_type": "code",
   "execution_count": 27,
   "metadata": {},
   "outputs": [],
   "source": [
    "# Implementing Logistic Regression\n",
    "LOG_clf = linear_model.LogisticRegression(multi_class = \"multinomial\", solver = \"lbfgs\", class_weight = 'balanced')\n"
   ]
  },
  {
   "cell_type": "code",
   "execution_count": 28,
   "metadata": {},
   "outputs": [
    {
     "data": {
      "text/plain": [
       "LogisticRegression(C=1.0, class_weight='balanced', dual=False,\n",
       "          fit_intercept=True, intercept_scaling=1, max_iter=100,\n",
       "          multi_class='multinomial', n_jobs=None, penalty='l2',\n",
       "          random_state=None, solver='lbfgs', tol=0.0001, verbose=0,\n",
       "          warm_start=False)"
      ]
     },
     "execution_count": 28,
     "metadata": {},
     "output_type": "execute_result"
    }
   ],
   "source": [
    "clf = LOG_clf\n",
    "clf.fit(X_train, y_train)"
   ]
  },
  {
   "cell_type": "code",
   "execution_count": 29,
   "metadata": {},
   "outputs": [],
   "source": [
    "logistic_clf_train = clf.predict(X_train)\n",
    "logistic_clf_test = clf.predict(X_test)\n",
    "\n"
   ]
  },
  {
   "cell_type": "code",
   "execution_count": 32,
   "metadata": {},
   "outputs": [
    {
     "name": "stdout",
     "output_type": "stream",
     "text": [
      "Score of LogisticRegression for training set: 0.8901.\n",
      "Score of LogisticRegression for test set: 0.8975.\n"
     ]
    }
   ],
   "source": [
    "print(\"Score of {} for training set: {:.4f}.\".format(clf.__class__.__name__, accuracy_score(y_train, logistic_clf_train)))\n",
    "print(\"Score of {} for test set: {:.4f}.\".format(clf.__class__.__name__, accuracy_score(y_test, logistic_clf_test)))\n"
   ]
  },
  {
   "cell_type": "code",
   "execution_count": 33,
   "metadata": {},
   "outputs": [],
   "source": [
    "# Trying different classfiication Models :\n",
    "#1. Logistic Regression\n",
    "#2. RandomForest\n",
    "#3. AdaBoost\n",
    "#4. XGBoost\n",
    "#5. KNN"
   ]
  },
  {
   "cell_type": "code",
   "execution_count": 34,
   "metadata": {},
   "outputs": [],
   "source": [
    "def find_best_classifier(classifiers, X_t, y_t, X_c, y_c, X_v, y_v):\n",
    "    ''' Tune all classifier and dimensionality reduction combinations to find best classifier. '''\n",
    "    \n",
    "    #Initialize result storage\n",
    "    clfs_return = []\n",
    "    #dm_reduce_return = []\n",
    "    train_scores = []\n",
    "    test_scores = []\n",
    "   \n",
    "        #Loop through classifiers\n",
    "    for clf in clfs:\n",
    "        print (\"Running Classifier\", clf)\n",
    "      \n",
    "        train_fit = clf.fit(X_t,y_t)\n",
    "        train_predict = clf.predict(X_t)\n",
    "        train_score = accuracy_score(y_t,train_predict)\n",
    "        print (train_score)\n",
    "        \n",
    "        test_fit = clf.fit(X_v,y_v)\n",
    "        test_predict = clf.predict(X_v)\n",
    "        test_score = accuracy_score(y_v,test_predict)\n",
    "      \n",
    "        print(test_score)\n",
    "        \n",
    "        #Append the result to storage            \n",
    "        clfs_return.append(clf)\n",
    " \n",
    "        train_scores.append(train_score)\n",
    "        test_scores.append(test_score)\n",
    "    \n",
    "    #Return storage\n",
    "    return clfs_return,  train_scores, test_scores\n"
   ]
  },
  {
   "cell_type": "code",
   "execution_count": 39,
   "metadata": {},
   "outputs": [],
   "source": [
    "## Initializing all models and parameters\n",
    "#Initializing classifiers\n",
    "from xgboost import XGBClassifier\n",
    "RF_clf = RandomForestClassifier(n_estimators = 200, random_state = 1, class_weight = 'balanced')\n",
    "AB_clf = AdaBoostClassifier(n_estimators = 200, random_state = 2)\n",
    "KNN_clf =  KNeighborsClassifier()\n",
    "LOG1_clf = linear_model.LogisticRegression(multi_class = \"ovr\", solver = \"liblinear\", class_weight = 'balanced')\n",
    "LOG2_clf = linear_model.LogisticRegression(multi_class = \"ovr\", solver = \"lbfgs\", class_weight = 'balanced')\n",
    "XGB_clf =  XGBClassifier()\n",
    "clfs = [ RF_clf, AB_clf, KNN_clf, LOG1_clf, LOG2_clf,XGB_clf]"
   ]
  },
  {
   "cell_type": "code",
   "execution_count": 40,
   "metadata": {},
   "outputs": [
    {
     "name": "stdout",
     "output_type": "stream",
     "text": [
      "Running Classifier RandomForestClassifier(bootstrap=True, class_weight='balanced',\n",
      "            criterion='gini', max_depth=None, max_features='auto',\n",
      "            max_leaf_nodes=None, min_impurity_decrease=0.0,\n",
      "            min_impurity_split=None, min_samples_leaf=1,\n",
      "            min_samples_split=2, min_weight_fraction_leaf=0.0,\n",
      "            n_estimators=200, n_jobs=None, oob_score=False, random_state=1,\n",
      "            verbose=0, warm_start=False)\n",
      "0.999879995199808\n",
      "1.0\n",
      "Running Classifier AdaBoostClassifier(algorithm='SAMME.R', base_estimator=None,\n",
      "          learning_rate=1.0, n_estimators=200, random_state=2)\n",
      "0.891275651026041\n",
      "0.903594222371515\n",
      "Running Classifier KNeighborsClassifier(algorithm='auto', leaf_size=30, metric='minkowski',\n",
      "           metric_params=None, n_jobs=None, n_neighbors=5, p=2,\n",
      "           weights='uniform')\n",
      "0.9092763710548422\n",
      "0.9096405777628485\n",
      "Running Classifier LogisticRegression(C=1.0, class_weight='balanced', dual=False,\n",
      "          fit_intercept=True, intercept_scaling=1, max_iter=100,\n",
      "          multi_class='ovr', n_jobs=None, penalty='l2', random_state=None,\n",
      "          solver='liblinear', tol=0.0001, verbose=0, warm_start=False)\n",
      "0.8900756030241209\n",
      "0.8898219684245885\n",
      "Running Classifier LogisticRegression(C=1.0, class_weight='balanced', dual=False,\n",
      "          fit_intercept=True, intercept_scaling=1, max_iter=100,\n",
      "          multi_class='ovr', n_jobs=None, penalty='l2', random_state=None,\n",
      "          solver='lbfgs', tol=0.0001, verbose=0, warm_start=False)\n",
      "0.8895955838233529\n",
      "0.8951965065502183\n",
      "Running Classifier XGBClassifier(base_score=0.5, booster='gbtree', colsample_bylevel=1,\n",
      "       colsample_bytree=1, gamma=0, learning_rate=0.1, max_delta_step=0,\n",
      "       max_depth=3, min_child_weight=1, missing=None, n_estimators=100,\n",
      "       n_jobs=1, nthread=None, objective='binary:logistic', random_state=0,\n",
      "       reg_alpha=0, reg_lambda=1, scale_pos_weight=1, seed=None,\n",
      "       silent=True, subsample=1)\n",
      "0.8953558142325693\n",
      "0.9119919381928115\n"
     ]
    }
   ],
   "source": [
    "#Training all classifiers and comparing them\n",
    "clfs, train_scores, test_scores = find_best_classifier(clfs,  X_train, y_train, \n",
    "                                                                    X_calibrate, y_calibrate, X_test, y_test)"
   ]
  },
  {
   "cell_type": "code",
   "execution_count": 41,
   "metadata": {},
   "outputs": [
    {
     "name": "stdout",
     "output_type": "stream",
     "text": [
      "RandomForestClassifier(bootstrap=True, class_weight='balanced',\n",
      "            criterion='gini', max_depth=None, max_features='auto',\n",
      "            max_leaf_nodes=None, min_impurity_decrease=0.0,\n",
      "            min_impurity_split=None, min_samples_leaf=1,\n",
      "            min_samples_split=2, min_weight_fraction_leaf=0.0,\n",
      "            n_estimators=200, n_jobs=None, oob_score=False, random_state=1,\n",
      "            verbose=0, warm_start=False) :: 0.999879995199808 :: 1.0\n",
      "AdaBoostClassifier(algorithm='SAMME.R', base_estimator=None,\n",
      "          learning_rate=1.0, n_estimators=200, random_state=2) :: 0.891275651026041 :: 0.903594222371515\n",
      "KNeighborsClassifier(algorithm='auto', leaf_size=30, metric='minkowski',\n",
      "           metric_params=None, n_jobs=None, n_neighbors=5, p=2,\n",
      "           weights='uniform') :: 0.9092763710548422 :: 0.9096405777628485\n",
      "LogisticRegression(C=1.0, class_weight='balanced', dual=False,\n",
      "          fit_intercept=True, intercept_scaling=1, max_iter=100,\n",
      "          multi_class='ovr', n_jobs=None, penalty='l2', random_state=None,\n",
      "          solver='liblinear', tol=0.0001, verbose=0, warm_start=False) :: 0.8900756030241209 :: 0.8898219684245885\n",
      "LogisticRegression(C=1.0, class_weight='balanced', dual=False,\n",
      "          fit_intercept=True, intercept_scaling=1, max_iter=100,\n",
      "          multi_class='ovr', n_jobs=None, penalty='l2', random_state=None,\n",
      "          solver='lbfgs', tol=0.0001, verbose=0, warm_start=False) :: 0.8895955838233529 :: 0.8951965065502183\n",
      "XGBClassifier(base_score=0.5, booster='gbtree', colsample_bylevel=1,\n",
      "       colsample_bytree=1, gamma=0, learning_rate=0.1, max_delta_step=0,\n",
      "       max_depth=3, min_child_weight=1, missing=None, n_estimators=100,\n",
      "       n_jobs=1, nthread=None, objective='binary:logistic', random_state=0,\n",
      "       reg_alpha=0, reg_lambda=1, scale_pos_weight=1, seed=None,\n",
      "       silent=True, subsample=1) :: 0.8953558142325693 :: 0.9119919381928115\n"
     ]
    }
   ],
   "source": [
    "for x in range (0,len(clfs)):\n",
    "    print (clfs[x], '::', train_scores[x], '::', test_scores[x])"
   ]
  },
  {
   "cell_type": "code",
   "execution_count": 42,
   "metadata": {},
   "outputs": [
    {
     "data": {
      "image/png": "[encoded data removed]",
      "text/plain": [
       "<Figure size 432x288 with 1 Axes>"
      ]
     },
     "metadata": {
      "needs_background": "light"
     },
     "output_type": "display_data"
    }
   ],
   "source": [
    "# Plotting the accuracies\n",
    "import matplotlib.pyplot as plt\n",
    "\n",
    "x_axis = np.arange(6)\n",
    "y_axis = [0.91,1,0.90,0.89,0.90,0.91]\n",
    "\n",
    "plt.bar(x_axis, y_axis, width=0.5, color = 'g')\n",
    "plt.xticks(x_axis+2/10.,('XGBst','RF',\n",
    "           'AdaBoost','LogReg1','LogReg2',\n",
    "            'KNN'))\n",
    "plt.ylabel('Accuracy')\n",
    "plt.savefig('Accuracyplot _Approach2_withPCA.png')\n",
    "plt.show()\n"
   ]
  },
  {
   "cell_type": "code",
   "execution_count": null,
   "metadata": {},
   "outputs": [],
   "source": []
  }
 ],
 "metadata": {
  "kernelspec": {
   "display_name": "Python 3",
   "language": "python",
   "name": "python3"
  },
  "language_info": {
   "codemirror_mode": {
    "name": "ipython",
    "version": 3
   },
   "file_extension": ".py",
   "mimetype": "text/x-python",
   "name": "python",
   "nbconvert_exporter": "python",
   "pygments_lexer": "ipython3",
   "version": "3.6.6"
  }
 },
 "nbformat": 4,
 "nbformat_minor": 2
}
